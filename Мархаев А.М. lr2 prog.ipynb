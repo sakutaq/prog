{
 "cells": [
  {
   "cell_type": "code",
   "execution_count": 2,
   "id": "63a1acba",
   "metadata": {},
   "outputs": [],
   "source": [
    "import pandas as pd\n",
    "     "
   ]
  },
  {
   "cell_type": "code",
   "execution_count": 3,
   "id": "101edce7",
   "metadata": {},
   "outputs": [
    {
     "name": "stdout",
     "output_type": "stream",
     "text": [
      "   PassengerId  Survived  Pclass  \\\n",
      "0            1         0       3   \n",
      "1            2         1       1   \n",
      "2            3         1       3   \n",
      "3            4         1       1   \n",
      "4            5         0       3   \n",
      "\n",
      "                                                Name     Sex   Age  SibSp  \\\n",
      "0                            Braund, Mr. Owen Harris    male  22.0      1   \n",
      "1  Cumings, Mrs. John Bradley (Florence Briggs Th...  female  38.0      1   \n",
      "2                             Heikkinen, Miss. Laina  female  26.0      0   \n",
      "3       Futrelle, Mrs. Jacques Heath (Lily May Peel)  female  35.0      1   \n",
      "4                           Allen, Mr. William Henry    male  35.0      0   \n",
      "\n",
      "   Parch            Ticket     Fare Cabin Embarked  \n",
      "0      0         A/5 21171   7.2500   NaN        S  \n",
      "1      0          PC 17599  71.2833   C85        C  \n",
      "2      0  STON/O2. 3101282   7.9250   NaN        S  \n",
      "3      0            113803  53.1000  C123        S  \n",
      "4      0            373450   8.0500   NaN        S  \n"
     ]
    }
   ],
   "source": [
    "\n",
    "train = pd.read_csv('train.csv')\n",
    "print(train.head())"
   ]
  },
  {
   "cell_type": "code",
   "execution_count": 4,
   "id": "6e7c9e53",
   "metadata": {},
   "outputs": [
    {
     "name": "stdout",
     "output_type": "stream",
     "text": [
      "577 314\n"
     ]
    }
   ],
   "source": [
    "male = train[train['Sex'] == 'male'].shape[0]\n",
    "female = train[train['Sex'] == 'female'].shape[0]\n",
    "print(male, female)"
   ]
  },
  {
   "cell_type": "code",
   "execution_count": 5,
   "id": "7b6d2ea0",
   "metadata": {},
   "outputs": [
    {
     "name": "stdout",
     "output_type": "stream",
     "text": [
      "644 168 77\n"
     ]
    }
   ],
   "source": [
    "embarked = train['Embarked'].value_counts()\n",
    "print(embarked.get('S', 0), embarked.get('C', 0), embarked.get('Q', 0))"
   ]
  },
  {
   "cell_type": "code",
   "execution_count": 6,
   "id": "113fd723",
   "metadata": {},
   "outputs": [
    {
     "name": "stdout",
     "output_type": "stream",
     "text": [
      "549 61.62\n"
     ]
    }
   ],
   "source": [
    "dead = train['Survived'].value_counts()[0]\n",
    "dead_percentage = (dead / train.shape[0]) * 100\n",
    "print(dead, round(dead_percentage, 2))"
   ]
  },
  {
   "cell_type": "code",
   "execution_count": 7,
   "id": "3b835aed",
   "metadata": {},
   "outputs": [
    {
     "name": "stdout",
     "output_type": "stream",
     "text": [
      "0.24 0.21 0.55\n"
     ]
    }
   ],
   "source": [
    "pclass = train['Pclass'].value_counts(normalize=True)\n",
    "print(round(pclass[1], 2), round(pclass[2], 2), round(pclass[3], 2))"
   ]
  },
  {
   "cell_type": "code",
   "execution_count": 8,
   "id": "cc839c6b",
   "metadata": {},
   "outputs": [
    {
     "name": "stdout",
     "output_type": "stream",
     "text": [
      "0.41\n"
     ]
    }
   ],
   "source": [
    "sibsp_parch = train[['SibSp', 'Parch']].corr().iloc[0, 1]\n",
    "print(round(sibsp_parch, 2))"
   ]
  },
  {
   "cell_type": "code",
   "execution_count": 9,
   "id": "4776aa05",
   "metadata": {},
   "outputs": [
    {
     "name": "stdout",
     "output_type": "stream",
     "text": [
      "-0.08\n",
      "0.54\n",
      "-0.34\n"
     ]
    }
   ],
   "source": [
    "age_survived = train[['Age', 'Survived']].corr().iloc[0, 1]\n",
    "print(round(age_survived, 2))\n",
    "\n",
    "\n",
    "train['Sex_binary'] = train['Sex'].map({'male': 0, 'female': 1})\n",
    "sex_survived = train[['Sex_binary', 'Survived']].corr().iloc[0, 1]\n",
    "print(round(sex_survived, 2))\n",
    "\n",
    "\n",
    "pclass_survived = train[['Pclass', 'Survived']].corr().iloc[0, 1]\n",
    "print(round(pclass_survived, 2))"
   ]
  },
  {
   "cell_type": "code",
   "execution_count": 10,
   "id": "e634fd1f",
   "metadata": {},
   "outputs": [
    {
     "name": "stdout",
     "output_type": "stream",
     "text": [
      "29.7 28.0 0.42 80.0\n"
     ]
    }
   ],
   "source": [
    "mean_age = train['Age'].mean()\n",
    "median_age = train['Age'].median()\n",
    "min_age = train['Age'].min()\n",
    "max_age = train['Age'].max()\n",
    "print(round(mean_age, 2), median_age, min_age, max_age)"
   ]
  },
  {
   "cell_type": "code",
   "execution_count": 11,
   "id": "1989a1e0",
   "metadata": {},
   "outputs": [
    {
     "name": "stdout",
     "output_type": "stream",
     "text": [
      "32.2 14.4542 0.0 512.3292\n"
     ]
    }
   ],
   "source": [
    "mean_fare = train['Fare'].mean()\n",
    "median_fare = train['Fare'].median()\n",
    "min_fare = train['Fare'].min()\n",
    "max_fare = train['Fare'].max()\n",
    "print(round(mean_fare, 2), median_fare, min_fare, max_fare)"
   ]
  },
  {
   "cell_type": "code",
   "execution_count": 12,
   "id": "b0cb53dc",
   "metadata": {},
   "outputs": [
    {
     "name": "stdout",
     "output_type": "stream",
     "text": [
      "William\n"
     ]
    }
   ],
   "source": [
    "train['First_Name'] = train['Name'].apply(lambda x: x.split('. ')[1].split(' ')[0])\n",
    "male_name = train[train['Sex'] == 'male']['First_Name'].mode()[0]\n",
    "print(male_name)"
   ]
  },
  {
   "cell_type": "code",
   "execution_count": 13,
   "id": "72eaa47b",
   "metadata": {},
   "outputs": [
    {
     "name": "stdout",
     "output_type": "stream",
     "text": [
      "William William\n"
     ]
    }
   ],
   "source": [
    "train_15 = train[train['Age'] > 15]\n",
    "male_name_15 = train_15[train_15['Sex'] == 'male']['First_Name'].mode()[0]\n",
    "female_name_15 = train_15[train_15['Sex'] == 'female']['First_Name'].mode()[0]\n",
    "print(male_name_15, female_name_15)"
   ]
  }
 ],
 "metadata": {
  "kernelspec": {
   "display_name": "Python 3",
   "language": "python",
   "name": "python3"
  },
  "language_info": {
   "codemirror_mode": {
    "name": "ipython",
    "version": 3
   },
   "file_extension": ".py",
   "mimetype": "text/x-python",
   "name": "python",
   "nbconvert_exporter": "python",
   "pygments_lexer": "ipython3",
   "version": "3.13.5"
  }
 },
 "nbformat": 4,
 "nbformat_minor": 5
}
